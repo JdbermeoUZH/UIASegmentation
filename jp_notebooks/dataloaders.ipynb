{
 "cells": [
  {
   "cell_type": "code",
   "execution_count": 1,
   "id": "b6fc648f",
   "metadata": {},
   "outputs": [],
   "source": [
    "import os\n",
    "import cc3d\n",
    "import torch\n",
    "import numpy as np\n",
    "import nibabel as nib\n",
    "import matplotlib.pyplot as plt"
   ]
  },
  {
   "cell_type": "code",
   "execution_count": 2,
   "id": "6ef0afe9",
   "metadata": {},
   "outputs": [],
   "source": [
    "subject_name         = '02053152-mca-rechts-new_tof.nii.gz'\n",
    "subject_name_gt_mask = '02053152-mca-rechts-new_seg.nii.gz'\n",
    "path_to_coarse_mask  = '/scratch/kvergopoulos/SemesterProject/datasets/pro_data_n4_False_sk_False_gl99.5'\n",
    "img_final            = nib.load(os.path.join(path_to_coarse_mask, subject_name)) \n",
    "img_gt               = nib.load(os.path.join(path_to_coarse_mask, subject_name_gt_mask)) "
   ]
  },
  {
   "cell_type": "code",
   "execution_count": 3,
   "id": "2ac7bf03",
   "metadata": {},
   "outputs": [],
   "source": [
    "coarse_mask          = img_final.get_fdata()\n",
    "img_gt_mask          = img_gt.get_fdata()"
   ]
  },
  {
   "cell_type": "code",
   "execution_count": 4,
   "id": "fa0c3c0e",
   "metadata": {},
   "outputs": [],
   "source": [
    "labels_in            = np.where(coarse_mask > 0, 1, 0)"
   ]
  },
  {
   "cell_type": "code",
   "execution_count": 5,
   "id": "291a8230",
   "metadata": {},
   "outputs": [],
   "source": [
    "connectivity = 6 # only 4,8 (2D) and 26, 18, and 6 (3D) are allowed\n",
    "labels_out   = cc3d.connected_components(labels_in, connectivity=connectivity)"
   ]
  },
  {
   "cell_type": "code",
   "execution_count": 6,
   "id": "215b2457",
   "metadata": {},
   "outputs": [
    {
     "name": "stdout",
     "output_type": "stream",
     "text": [
      "[  0   1   2   3   4   5   6   7   8   9  10  11  12  13  14  15  16  17\n",
      "  18  19  20  21  22  23  24  25  26  27  28  29  30  31  32  33  34  35\n",
      "  36  37  38  39  40  41  42  43  44  45  46  47  48  49  50  51  52  53\n",
      "  54  55  56  57  58  59  60  61  62  63  64  65  66  67  68  69  70  71\n",
      "  72  73  74  75  76  77  78  79  80  81  82  83  84  85  86  87  88  89\n",
      "  90  91  92  93  94  95  96  97  98  99 100 101 102 103 104 105 106 107\n",
      " 108 109 110 111 112 113 114 115 116 117 118 119 120 121 122 123 124 125\n",
      " 126 127 128 129 130 131 132 133 134 135 136 137 138 139 140 141 142 143\n",
      " 144 145 146 147 148 149 150 151 152 153 154 155 156 157 158 159 160 161\n",
      " 162 163 164 165 166 167 168 169 170 171 172 173 174 175 176 177 178 179\n",
      " 180 181 182 183 184 185 186 187 188 189 190 191 192 193 194 195 196 197\n",
      " 198 199 200 201 202 203 204 205 206 207 208 209 210 211 212 213 214 215\n",
      " 216 217 218 219 220 221 222 223 224 225 226 227 228 229 230 231 232 233\n",
      " 234 235 236 237 238 239 240 241 242 243 244 245 246 247 248 249 250 251\n",
      " 252 253 254 255 256 257 258 259 260 261 262 263 264 265 266 267 268 269\n",
      " 270 271 272 273 274 275 276 277 278 279 280 281 282 283 284 285 286 287\n",
      " 288 289 290 291 292 293 294 295 296 297 298 299 300 301 302 303 304 305\n",
      " 306 307 308 309 310 311 312 313 314 315 316 317 318 319 320 321 322 323\n",
      " 324 325 326 327 328 329 330 331 332 333 334 335 336 337 338 339 340 341\n",
      " 342 343 344 345 346 347 348 349 350 351 352 353 354 355 356 357 358 359\n",
      " 360 361 362 363 364 365 366 367 368 369 370 371 372 373 374 375 376 377\n",
      " 378 379 380 381] 382\n"
     ]
    }
   ],
   "source": [
    "print(np.unique(labels_out), len(np.unique(labels_out)))"
   ]
  },
  {
   "cell_type": "code",
   "execution_count": 7,
   "id": "f2a87648",
   "metadata": {},
   "outputs": [
    {
     "name": "stdout",
     "output_type": "stream",
     "text": [
      "(512, 512, 112) (512, 512, 112)\n"
     ]
    }
   ],
   "source": [
    "print(labels_out.shape, labels_in.shape)"
   ]
  },
  {
   "cell_type": "code",
   "execution_count": 8,
   "id": "8a067575",
   "metadata": {},
   "outputs": [
    {
     "data": {
      "text/plain": [
       "<matplotlib.image.AxesImage at 0x7fdf932323e0>"
      ]
     },
     "execution_count": 8,
     "metadata": {},
     "output_type": "execute_result"
    },
    {
     "data": {
      "image/png": "[encoded data removed]",
      "text/plain": [
       "<Figure size 640x480 with 1 Axes>"
      ]
     },
     "metadata": {},
     "output_type": "display_data"
    }
   ],
   "source": [
    "plt.imshow(labels_in[:,:,60])"
   ]
  },
  {
   "cell_type": "code",
   "execution_count": 9,
   "id": "0d29485e",
   "metadata": {},
   "outputs": [],
   "source": [
    "labels_out_test = np.where(labels_out > 0, 1, 0)"
   ]
  },
  {
   "cell_type": "code",
   "execution_count": 10,
   "id": "03c61b4b",
   "metadata": {},
   "outputs": [
    {
     "data": {
      "text/plain": [
       "<matplotlib.image.AxesImage at 0x7fdf8f73e7d0>"
      ]
     },
     "execution_count": 10,
     "metadata": {},
     "output_type": "execute_result"
    },
    {
     "data": {
      "image/png": "[encoded data removed]",
      "text/plain": [
       "<Figure size 640x480 with 1 Axes>"
      ]
     },
     "metadata": {},
     "output_type": "display_data"
    }
   ],
   "source": [
    "plt.imshow(labels_out_test[:,:,60])"
   ]
  },
  {
   "cell_type": "code",
   "execution_count": 12,
   "id": "cce2bae8",
   "metadata": {},
   "outputs": [
    {
     "name": "stdout",
     "output_type": "stream",
     "text": [
      "torch.Size([512, 512, 112])\n"
     ]
    }
   ],
   "source": [
    "labels_out  = labels_out.astype(np.int16)\n",
    "tensor_test = torch.tensor(labels_out)\n",
    "\n",
    "print(tensor_test.size())"
   ]
  },
  {
   "cell_type": "code",
   "execution_count": 27,
   "id": "33a922f7",
   "metadata": {},
   "outputs": [],
   "source": [
    "# Define the dimensions of the 3D numpy array\n",
    "x_dim = 2\n",
    "y_dim = 4\n",
    "z_dim = 6\n",
    "\n",
    "# Compute the total number of elements in the array\n",
    "total_elements = x_dim * y_dim * z_dim\n",
    "\n",
    "# Create a 1D numpy array with sequential numbers starting from 1\n",
    "seq_array = np.arange(1, total_elements + 1)\n",
    "\n",
    "# Reshape the 1D array into a 3D array with the desired dimensions\n",
    "my_array = seq_array.reshape((x_dim, y_dim, z_dim))"
   ]
  },
  {
   "cell_type": "code",
   "execution_count": 28,
   "id": "a33c4136",
   "metadata": {},
   "outputs": [
    {
     "name": "stdout",
     "output_type": "stream",
     "text": [
      "(2, 4, 6)\n",
      "[[[ 1  2  3  4  5  6]\n",
      "  [ 7  8  9 10 11 12]\n",
      "  [13 14 15 16 17 18]\n",
      "  [19 20 21 22 23 24]]\n",
      "\n",
      " [[25 26 27 28 29 30]\n",
      "  [31 32 33 34 35 36]\n",
      "  [37 38 39 40 41 42]\n",
      "  [43 44 45 46 47 48]]]\n"
     ]
    }
   ],
   "source": [
    "print(my_array.shape)  # Output: (2, 3, 4)\n",
    "print(my_array)    "
   ]
  },
  {
   "cell_type": "code",
   "execution_count": 29,
   "id": "50681cc5",
   "metadata": {},
   "outputs": [],
   "source": [
    "my_tensor = torch.tensor(my_array)"
   ]
  },
  {
   "cell_type": "code",
   "execution_count": 40,
   "id": "a8e370c1",
   "metadata": {},
   "outputs": [
    {
     "data": {
      "text/plain": [
       "tensor([[[ 1,  2,  3,  4,  5,  6],\n",
       "         [ 7,  8,  9, 10, 11, 12],\n",
       "         [13, 14, 15, 16, 17, 18],\n",
       "         [19, 20, 21, 22, 23, 24]],\n",
       "\n",
       "        [[25, 26, 27, 28, 29, 30],\n",
       "         [31, 32, 33, 34, 35, 36],\n",
       "         [37, 38, 39, 40, 41, 42],\n",
       "         [43, 44, 45, 46, 47, 48]]])"
      ]
     },
     "execution_count": 40,
     "metadata": {},
     "output_type": "execute_result"
    }
   ],
   "source": [
    "my_tensor"
   ]
  },
  {
   "cell_type": "code",
   "execution_count": 51,
   "id": "d704380f",
   "metadata": {},
   "outputs": [],
   "source": [
    "# Define patch size and stride\n",
    "patch_size = (2, 2, 2)\n",
    "stride     = patch_size"
   ]
  },
  {
   "cell_type": "code",
   "execution_count": 52,
   "id": "207a8319",
   "metadata": {},
   "outputs": [],
   "source": [
    "patches = my_tensor.unfold(0, patch_size[0], stride[0])\\\n",
    "                   .unfold(1, patch_size[1], stride[1])\\\n",
    "                   .unfold(2, patch_size[2], stride[2])"
   ]
  },
  {
   "cell_type": "code",
   "execution_count": 53,
   "id": "2a659146",
   "metadata": {},
   "outputs": [
    {
     "data": {
      "text/plain": [
       "torch.Size([1, 2, 3, 2, 2, 2])"
      ]
     },
     "execution_count": 53,
     "metadata": {},
     "output_type": "execute_result"
    }
   ],
   "source": [
    "patches.size()"
   ]
  },
  {
   "cell_type": "code",
   "execution_count": 67,
   "id": "aa233861",
   "metadata": {},
   "outputs": [
    {
     "data": {
      "text/plain": [
       "tensor([[[[[[ 1,  2],\n",
       "            [ 7,  8]],\n",
       "\n",
       "           [[25, 26],\n",
       "            [31, 32]]],\n",
       "\n",
       "\n",
       "          [[[ 3,  4],\n",
       "            [ 9, 10]],\n",
       "\n",
       "           [[27, 28],\n",
       "            [33, 34]]],\n",
       "\n",
       "\n",
       "          [[[ 5,  6],\n",
       "            [11, 12]],\n",
       "\n",
       "           [[29, 30],\n",
       "            [35, 36]]]],\n",
       "\n",
       "\n",
       "\n",
       "         [[[[13, 14],\n",
       "            [19, 20]],\n",
       "\n",
       "           [[37, 38],\n",
       "            [43, 44]]],\n",
       "\n",
       "\n",
       "          [[[15, 16],\n",
       "            [21, 22]],\n",
       "\n",
       "           [[39, 40],\n",
       "            [45, 46]]],\n",
       "\n",
       "\n",
       "          [[[17, 18],\n",
       "            [23, 24]],\n",
       "\n",
       "           [[41, 42],\n",
       "            [47, 48]]]]]])"
      ]
     },
     "execution_count": 67,
     "metadata": {},
     "output_type": "execute_result"
    }
   ],
   "source": [
    "patches"
   ]
  },
  {
   "cell_type": "code",
   "execution_count": 56,
   "id": "22071637",
   "metadata": {},
   "outputs": [],
   "source": [
    "patches_t = patches.contiguous().view(-1, *patch_size)"
   ]
  },
  {
   "cell_type": "code",
   "execution_count": 63,
   "id": "055fff1b",
   "metadata": {},
   "outputs": [
    {
     "data": {
      "text/plain": [
       "tensor([[[17, 18],\n",
       "         [23, 24]],\n",
       "\n",
       "        [[41, 42],\n",
       "         [47, 48]]])"
      ]
     },
     "execution_count": 63,
     "metadata": {},
     "output_type": "execute_result"
    }
   ],
   "source": [
    "patches_t[0 + 1*1 + 2*2]"
   ]
  },
  {
   "cell_type": "code",
   "execution_count": 68,
   "id": "8f343ce0",
   "metadata": {},
   "outputs": [],
   "source": [
    "t = patches.contiguous().view(1, 2, -1, patch_size[0], patch_size[1], patch_size[2])"
   ]
  },
  {
   "cell_type": "code",
   "execution_count": 69,
   "id": "5845fa8c",
   "metadata": {},
   "outputs": [
    {
     "data": {
      "text/plain": [
       "tensor([[[[[[ 1,  2],\n",
       "            [ 7,  8]],\n",
       "\n",
       "           [[25, 26],\n",
       "            [31, 32]]],\n",
       "\n",
       "\n",
       "          [[[ 3,  4],\n",
       "            [ 9, 10]],\n",
       "\n",
       "           [[27, 28],\n",
       "            [33, 34]]],\n",
       "\n",
       "\n",
       "          [[[ 5,  6],\n",
       "            [11, 12]],\n",
       "\n",
       "           [[29, 30],\n",
       "            [35, 36]]]],\n",
       "\n",
       "\n",
       "\n",
       "         [[[[13, 14],\n",
       "            [19, 20]],\n",
       "\n",
       "           [[37, 38],\n",
       "            [43, 44]]],\n",
       "\n",
       "\n",
       "          [[[15, 16],\n",
       "            [21, 22]],\n",
       "\n",
       "           [[39, 40],\n",
       "            [45, 46]]],\n",
       "\n",
       "\n",
       "          [[[17, 18],\n",
       "            [23, 24]],\n",
       "\n",
       "           [[41, 42],\n",
       "            [47, 48]]]]]])"
      ]
     },
     "execution_count": 69,
     "metadata": {},
     "output_type": "execute_result"
    }
   ],
   "source": [
    "t"
   ]
  },
  {
   "cell_type": "code",
   "execution_count": null,
   "id": "df598c23",
   "metadata": {},
   "outputs": [],
   "source": []
  }
 ],
 "metadata": {
  "kernelspec": {
   "display_name": "Python [conda env:dl]",
   "language": "python",
   "name": "conda-env-dl-py"
  },
  "language_info": {
   "codemirror_mode": {
    "name": "ipython",
    "version": 3
   },
   "file_extension": ".py",
   "mimetype": "text/x-python",
   "name": "python",
   "nbconvert_exporter": "python",
   "pygments_lexer": "ipython3",
   "version": "3.10.10"
  }
 },
 "nbformat": 4,
 "nbformat_minor": 5
}
